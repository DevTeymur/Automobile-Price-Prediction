{
 "cells": [
  {
   "cell_type": "code",
   "execution_count": 1,
   "id": "04d9cbba",
   "metadata": {},
   "outputs": [],
   "source": [
    "import pandas as pd\n",
    "import numpy as np\n",
    "import seaborn as sns\n",
    "import matplotlib.pyplot as plt\n",
    "from warnings import filterwarnings\n",
    "filterwarnings('ignore')"
   ]
  },
  {
   "cell_type": "code",
   "execution_count": 284,
   "id": "a4b7304b",
   "metadata": {},
   "outputs": [],
   "source": [
    "data=pd.read_csv('Automobile_data.csv', na_values=['?', ' ?', '? '])\n",
    "data=data.replace(['?'], np.nan)"
   ]
  },
  {
   "cell_type": "code",
   "execution_count": 315,
   "id": "5e32fc78",
   "metadata": {},
   "outputs": [],
   "source": [
    "df=data.copy()"
   ]
  },
  {
   "cell_type": "markdown",
   "id": "d8e4556d",
   "metadata": {},
   "source": [
    "# Data Understanding"
   ]
  },
  {
   "cell_type": "code",
   "execution_count": 188,
   "id": "b77b3dab",
   "metadata": {},
   "outputs": [
    {
     "name": "stdout",
     "output_type": "stream",
     "text": [
      "<class 'pandas.core.frame.DataFrame'>\n",
      "RangeIndex: 205 entries, 0 to 204\n",
      "Data columns (total 26 columns):\n",
      " #   Column             Non-Null Count  Dtype  \n",
      "---  ------             --------------  -----  \n",
      " 0   symboling          205 non-null    int64  \n",
      " 1   normalized-losses  164 non-null    float64\n",
      " 2   make               205 non-null    object \n",
      " 3   fuel-type          205 non-null    object \n",
      " 4   aspiration         205 non-null    object \n",
      " 5   num-of-doors       203 non-null    object \n",
      " 6   body-style         205 non-null    object \n",
      " 7   drive-wheels       205 non-null    object \n",
      " 8   engine-location    205 non-null    object \n",
      " 9   wheel-base         205 non-null    float64\n",
      " 10  length             205 non-null    float64\n",
      " 11  width              205 non-null    float64\n",
      " 12  height             205 non-null    float64\n",
      " 13  curb-weight        205 non-null    int64  \n",
      " 14  engine-type        205 non-null    object \n",
      " 15  num-of-cylinders   205 non-null    object \n",
      " 16  engine-size        205 non-null    int64  \n",
      " 17  fuel-system        205 non-null    object \n",
      " 18  bore               201 non-null    float64\n",
      " 19  stroke             201 non-null    float64\n",
      " 20  compression-ratio  205 non-null    float64\n",
      " 21  horsepower         203 non-null    float64\n",
      " 22  peak-rpm           203 non-null    float64\n",
      " 23  city-mpg           205 non-null    int64  \n",
      " 24  highway-mpg        205 non-null    int64  \n",
      " 25  price              201 non-null    float64\n",
      "dtypes: float64(11), int64(5), object(10)\n",
      "memory usage: 41.8+ KB\n"
     ]
    }
   ],
   "source": [
    "df.info()"
   ]
  },
  {
   "cell_type": "code",
   "execution_count": 189,
   "id": "1931ab2f",
   "metadata": {},
   "outputs": [
    {
     "data": {
      "text/plain": [
       "(205, 26)"
      ]
     },
     "execution_count": 189,
     "metadata": {},
     "output_type": "execute_result"
    }
   ],
   "source": [
    "df.shape"
   ]
  },
  {
   "cell_type": "code",
   "execution_count": 190,
   "id": "7f98e571",
   "metadata": {},
   "outputs": [
    {
     "data": {
      "text/html": [
       "<div>\n",
       "<style scoped>\n",
       "    .dataframe tbody tr th:only-of-type {\n",
       "        vertical-align: middle;\n",
       "    }\n",
       "\n",
       "    .dataframe tbody tr th {\n",
       "        vertical-align: top;\n",
       "    }\n",
       "\n",
       "    .dataframe thead th {\n",
       "        text-align: right;\n",
       "    }\n",
       "</style>\n",
       "<table border=\"1\" class=\"dataframe\">\n",
       "  <thead>\n",
       "    <tr style=\"text-align: right;\">\n",
       "      <th></th>\n",
       "      <th>symboling</th>\n",
       "      <th>normalized-losses</th>\n",
       "      <th>make</th>\n",
       "      <th>fuel-type</th>\n",
       "      <th>aspiration</th>\n",
       "      <th>num-of-doors</th>\n",
       "      <th>body-style</th>\n",
       "      <th>drive-wheels</th>\n",
       "      <th>engine-location</th>\n",
       "      <th>wheel-base</th>\n",
       "      <th>...</th>\n",
       "      <th>engine-size</th>\n",
       "      <th>fuel-system</th>\n",
       "      <th>bore</th>\n",
       "      <th>stroke</th>\n",
       "      <th>compression-ratio</th>\n",
       "      <th>horsepower</th>\n",
       "      <th>peak-rpm</th>\n",
       "      <th>city-mpg</th>\n",
       "      <th>highway-mpg</th>\n",
       "      <th>price</th>\n",
       "    </tr>\n",
       "  </thead>\n",
       "  <tbody>\n",
       "    <tr>\n",
       "      <th>0</th>\n",
       "      <td>3</td>\n",
       "      <td>NaN</td>\n",
       "      <td>alfa-romero</td>\n",
       "      <td>gas</td>\n",
       "      <td>std</td>\n",
       "      <td>two</td>\n",
       "      <td>convertible</td>\n",
       "      <td>rwd</td>\n",
       "      <td>front</td>\n",
       "      <td>88.6</td>\n",
       "      <td>...</td>\n",
       "      <td>130</td>\n",
       "      <td>mpfi</td>\n",
       "      <td>3.47</td>\n",
       "      <td>2.68</td>\n",
       "      <td>9.0</td>\n",
       "      <td>111.0</td>\n",
       "      <td>5000.0</td>\n",
       "      <td>21</td>\n",
       "      <td>27</td>\n",
       "      <td>13495.0</td>\n",
       "    </tr>\n",
       "    <tr>\n",
       "      <th>1</th>\n",
       "      <td>3</td>\n",
       "      <td>NaN</td>\n",
       "      <td>alfa-romero</td>\n",
       "      <td>gas</td>\n",
       "      <td>std</td>\n",
       "      <td>two</td>\n",
       "      <td>convertible</td>\n",
       "      <td>rwd</td>\n",
       "      <td>front</td>\n",
       "      <td>88.6</td>\n",
       "      <td>...</td>\n",
       "      <td>130</td>\n",
       "      <td>mpfi</td>\n",
       "      <td>3.47</td>\n",
       "      <td>2.68</td>\n",
       "      <td>9.0</td>\n",
       "      <td>111.0</td>\n",
       "      <td>5000.0</td>\n",
       "      <td>21</td>\n",
       "      <td>27</td>\n",
       "      <td>16500.0</td>\n",
       "    </tr>\n",
       "    <tr>\n",
       "      <th>2</th>\n",
       "      <td>1</td>\n",
       "      <td>NaN</td>\n",
       "      <td>alfa-romero</td>\n",
       "      <td>gas</td>\n",
       "      <td>std</td>\n",
       "      <td>two</td>\n",
       "      <td>hatchback</td>\n",
       "      <td>rwd</td>\n",
       "      <td>front</td>\n",
       "      <td>94.5</td>\n",
       "      <td>...</td>\n",
       "      <td>152</td>\n",
       "      <td>mpfi</td>\n",
       "      <td>2.68</td>\n",
       "      <td>3.47</td>\n",
       "      <td>9.0</td>\n",
       "      <td>154.0</td>\n",
       "      <td>5000.0</td>\n",
       "      <td>19</td>\n",
       "      <td>26</td>\n",
       "      <td>16500.0</td>\n",
       "    </tr>\n",
       "    <tr>\n",
       "      <th>3</th>\n",
       "      <td>2</td>\n",
       "      <td>164.0</td>\n",
       "      <td>audi</td>\n",
       "      <td>gas</td>\n",
       "      <td>std</td>\n",
       "      <td>four</td>\n",
       "      <td>sedan</td>\n",
       "      <td>fwd</td>\n",
       "      <td>front</td>\n",
       "      <td>99.8</td>\n",
       "      <td>...</td>\n",
       "      <td>109</td>\n",
       "      <td>mpfi</td>\n",
       "      <td>3.19</td>\n",
       "      <td>3.40</td>\n",
       "      <td>10.0</td>\n",
       "      <td>102.0</td>\n",
       "      <td>5500.0</td>\n",
       "      <td>24</td>\n",
       "      <td>30</td>\n",
       "      <td>13950.0</td>\n",
       "    </tr>\n",
       "    <tr>\n",
       "      <th>4</th>\n",
       "      <td>2</td>\n",
       "      <td>164.0</td>\n",
       "      <td>audi</td>\n",
       "      <td>gas</td>\n",
       "      <td>std</td>\n",
       "      <td>four</td>\n",
       "      <td>sedan</td>\n",
       "      <td>4wd</td>\n",
       "      <td>front</td>\n",
       "      <td>99.4</td>\n",
       "      <td>...</td>\n",
       "      <td>136</td>\n",
       "      <td>mpfi</td>\n",
       "      <td>3.19</td>\n",
       "      <td>3.40</td>\n",
       "      <td>8.0</td>\n",
       "      <td>115.0</td>\n",
       "      <td>5500.0</td>\n",
       "      <td>18</td>\n",
       "      <td>22</td>\n",
       "      <td>17450.0</td>\n",
       "    </tr>\n",
       "    <tr>\n",
       "      <th>5</th>\n",
       "      <td>2</td>\n",
       "      <td>NaN</td>\n",
       "      <td>audi</td>\n",
       "      <td>gas</td>\n",
       "      <td>std</td>\n",
       "      <td>two</td>\n",
       "      <td>sedan</td>\n",
       "      <td>fwd</td>\n",
       "      <td>front</td>\n",
       "      <td>99.8</td>\n",
       "      <td>...</td>\n",
       "      <td>136</td>\n",
       "      <td>mpfi</td>\n",
       "      <td>3.19</td>\n",
       "      <td>3.40</td>\n",
       "      <td>8.5</td>\n",
       "      <td>110.0</td>\n",
       "      <td>5500.0</td>\n",
       "      <td>19</td>\n",
       "      <td>25</td>\n",
       "      <td>15250.0</td>\n",
       "    </tr>\n",
       "    <tr>\n",
       "      <th>6</th>\n",
       "      <td>1</td>\n",
       "      <td>158.0</td>\n",
       "      <td>audi</td>\n",
       "      <td>gas</td>\n",
       "      <td>std</td>\n",
       "      <td>four</td>\n",
       "      <td>sedan</td>\n",
       "      <td>fwd</td>\n",
       "      <td>front</td>\n",
       "      <td>105.8</td>\n",
       "      <td>...</td>\n",
       "      <td>136</td>\n",
       "      <td>mpfi</td>\n",
       "      <td>3.19</td>\n",
       "      <td>3.40</td>\n",
       "      <td>8.5</td>\n",
       "      <td>110.0</td>\n",
       "      <td>5500.0</td>\n",
       "      <td>19</td>\n",
       "      <td>25</td>\n",
       "      <td>17710.0</td>\n",
       "    </tr>\n",
       "  </tbody>\n",
       "</table>\n",
       "<p>7 rows × 26 columns</p>\n",
       "</div>"
      ],
      "text/plain": [
       "   symboling  normalized-losses         make fuel-type aspiration  \\\n",
       "0          3                NaN  alfa-romero       gas        std   \n",
       "1          3                NaN  alfa-romero       gas        std   \n",
       "2          1                NaN  alfa-romero       gas        std   \n",
       "3          2              164.0         audi       gas        std   \n",
       "4          2              164.0         audi       gas        std   \n",
       "5          2                NaN         audi       gas        std   \n",
       "6          1              158.0         audi       gas        std   \n",
       "\n",
       "  num-of-doors   body-style drive-wheels engine-location  wheel-base  ...  \\\n",
       "0          two  convertible          rwd           front        88.6  ...   \n",
       "1          two  convertible          rwd           front        88.6  ...   \n",
       "2          two    hatchback          rwd           front        94.5  ...   \n",
       "3         four        sedan          fwd           front        99.8  ...   \n",
       "4         four        sedan          4wd           front        99.4  ...   \n",
       "5          two        sedan          fwd           front        99.8  ...   \n",
       "6         four        sedan          fwd           front       105.8  ...   \n",
       "\n",
       "   engine-size  fuel-system  bore  stroke compression-ratio horsepower  \\\n",
       "0          130         mpfi  3.47    2.68               9.0      111.0   \n",
       "1          130         mpfi  3.47    2.68               9.0      111.0   \n",
       "2          152         mpfi  2.68    3.47               9.0      154.0   \n",
       "3          109         mpfi  3.19    3.40              10.0      102.0   \n",
       "4          136         mpfi  3.19    3.40               8.0      115.0   \n",
       "5          136         mpfi  3.19    3.40               8.5      110.0   \n",
       "6          136         mpfi  3.19    3.40               8.5      110.0   \n",
       "\n",
       "   peak-rpm city-mpg  highway-mpg    price  \n",
       "0    5000.0       21           27  13495.0  \n",
       "1    5000.0       21           27  16500.0  \n",
       "2    5000.0       19           26  16500.0  \n",
       "3    5500.0       24           30  13950.0  \n",
       "4    5500.0       18           22  17450.0  \n",
       "5    5500.0       19           25  15250.0  \n",
       "6    5500.0       19           25  17710.0  \n",
       "\n",
       "[7 rows x 26 columns]"
      ]
     },
     "execution_count": 190,
     "metadata": {},
     "output_type": "execute_result"
    }
   ],
   "source": [
    "df.head(7)"
   ]
  },
  {
   "cell_type": "code",
   "execution_count": 191,
   "id": "ba0155d0",
   "metadata": {},
   "outputs": [
    {
     "data": {
      "text/plain": [
       "Index(['symboling', 'normalized-losses', 'make', 'fuel-type', 'aspiration',\n",
       "       'num-of-doors', 'body-style', 'drive-wheels', 'engine-location',\n",
       "       'wheel-base', 'length', 'width', 'height', 'curb-weight', 'engine-type',\n",
       "       'num-of-cylinders', 'engine-size', 'fuel-system', 'bore', 'stroke',\n",
       "       'compression-ratio', 'horsepower', 'peak-rpm', 'city-mpg',\n",
       "       'highway-mpg', 'price'],\n",
       "      dtype='object')"
      ]
     },
     "execution_count": 191,
     "metadata": {},
     "output_type": "execute_result"
    }
   ],
   "source": [
    "df.columns"
   ]
  },
  {
   "cell_type": "code",
   "execution_count": 192,
   "id": "0c2e6a6d",
   "metadata": {},
   "outputs": [
    {
     "data": {
      "text/plain": [
       "symboling              6\n",
       "normalized-losses     51\n",
       "make                  22\n",
       "fuel-type              2\n",
       "aspiration             2\n",
       "num-of-doors           2\n",
       "body-style             5\n",
       "drive-wheels           3\n",
       "engine-location        2\n",
       "wheel-base            53\n",
       "length                75\n",
       "width                 44\n",
       "height                49\n",
       "curb-weight          171\n",
       "engine-type            7\n",
       "num-of-cylinders       7\n",
       "engine-size           44\n",
       "fuel-system            8\n",
       "bore                  38\n",
       "stroke                36\n",
       "compression-ratio     32\n",
       "horsepower            59\n",
       "peak-rpm              23\n",
       "city-mpg              29\n",
       "highway-mpg           30\n",
       "price                186\n",
       "dtype: int64"
      ]
     },
     "execution_count": 192,
     "metadata": {},
     "output_type": "execute_result"
    }
   ],
   "source": [
    "df.nunique()"
   ]
  },
  {
   "cell_type": "code",
   "execution_count": 193,
   "id": "3d960cb3",
   "metadata": {
    "scrolled": true
   },
   "outputs": [
    {
     "data": {
      "image/png": "[encoded data removed]",
      "text/plain": [
       "<Figure size 432x288 with 1 Axes>"
      ]
     },
     "metadata": {},
     "output_type": "display_data"
    },
    {
     "data": {
      "image/png": "[encoded data removed]",
      "text/plain": [
       "<Figure size 432x288 with 1 Axes>"
      ]
     },
     "metadata": {},
     "output_type": "display_data"
    },
    {
     "data": {
      "image/png": "[encoded data removed]",
      "text/plain": [
       "<Figure size 432x288 with 1 Axes>"
      ]
     },
     "metadata": {},
     "output_type": "display_data"
    },
    {
     "data": {
      "image/png": "[encoded data removed]",
      "text/plain": [
       "<Figure size 432x288 with 1 Axes>"
      ]
     },
     "metadata": {},
     "output_type": "display_data"
    }
   ],
   "source": [
    "def pie_chart(cols):\n",
    "    for col in cols:\n",
    "        fig, ax = plt.subplots(figsize=(6,4))\n",
    "        plt.pie(x=df[col].value_counts(), labels=list(df[col].value_counts().index), explode = (0, 0.1))\n",
    "        plt.show()\n",
    "pie_chart(['fuel-type', 'aspiration', 'num-of-doors', 'engine-location'])"
   ]
  },
  {
   "cell_type": "code",
   "execution_count": 194,
   "id": "ff2b537d",
   "metadata": {},
   "outputs": [
    {
     "data": {
      "image/png": "[encoded data removed]",
      "text/plain": [
       "<Figure size 576x360 with 1 Axes>"
      ]
     },
     "metadata": {
      "needs_background": "light"
     },
     "output_type": "display_data"
    }
   ],
   "source": [
    "plt.figure(figsize=(8,5))\n",
    "sns.countplot(df.make)\n",
    "plt.xticks(rotation=90)\n",
    "plt.show()"
   ]
  },
  {
   "cell_type": "code",
   "execution_count": 195,
   "id": "ec3133d8",
   "metadata": {},
   "outputs": [
    {
     "data": {
      "image/png": "[encoded data removed]",
      "text/plain": [
       "<Figure size 576x360 with 1 Axes>"
      ]
     },
     "metadata": {
      "needs_background": "light"
     },
     "output_type": "display_data"
    }
   ],
   "source": [
    "plt.figure(figsize=(8,5))\n",
    "sns.countplot(df['body-style'])\n",
    "plt.show()"
   ]
  },
  {
   "cell_type": "markdown",
   "id": "c32d88e4",
   "metadata": {},
   "source": [
    "# Data Preprocessing"
   ]
  },
  {
   "cell_type": "code",
   "execution_count": 316,
   "id": "f5cd11a0",
   "metadata": {},
   "outputs": [
    {
     "data": {
      "text/plain": [
       "59"
      ]
     },
     "execution_count": 316,
     "metadata": {},
     "output_type": "execute_result"
    }
   ],
   "source": [
    "df.isnull().sum().sum()"
   ]
  },
  {
   "cell_type": "code",
   "execution_count": 317,
   "id": "0cb25277",
   "metadata": {},
   "outputs": [
    {
     "name": "stdout",
     "output_type": "stream",
     "text": [
      "normalized-losses    41\n",
      "num-of-doors          2\n",
      "bore                  4\n",
      "stroke                4\n",
      "horsepower            2\n",
      "peak-rpm              2\n",
      "price                 4\n",
      "dtype: int64\n"
     ]
    }
   ],
   "source": [
    "nulls=df.isnull().sum()\n",
    "print(nulls[nulls > 0])"
   ]
  },
  {
   "cell_type": "code",
   "execution_count": 318,
   "id": "8d3d7c88",
   "metadata": {},
   "outputs": [
    {
     "name": "stdout",
     "output_type": "stream",
     "text": [
      "normalized-losses    0.200000\n",
      "num-of-doors         0.009756\n",
      "bore                 0.019512\n",
      "stroke               0.019512\n",
      "horsepower           0.009756\n",
      "peak-rpm             0.009756\n",
      "price                0.019512\n",
      "dtype: float64\n"
     ]
    }
   ],
   "source": [
    "nulls=df.isnull().sum()/df.shape[0]\n",
    "print(nulls[nulls > 0])"
   ]
  },
  {
   "cell_type": "code",
   "execution_count": 319,
   "id": "e9360789",
   "metadata": {},
   "outputs": [
    {
     "name": "stdout",
     "output_type": "stream",
     "text": [
      "normalized-losses float64\n",
      "num-of-doors object\n",
      "bore float64\n",
      "stroke float64\n",
      "horsepower float64\n",
      "peak-rpm float64\n",
      "price float64\n"
     ]
    }
   ],
   "source": [
    "null_col_names=nulls[nulls>0].index\n",
    "for col in null_col_names:\n",
    "    print(col, df[col].dtypes)"
   ]
  },
  {
   "cell_type": "code",
   "execution_count": 320,
   "id": "21575a93",
   "metadata": {},
   "outputs": [],
   "source": [
    "df['num-of-doors']=df['num-of-doors'].fillna(df['num-of-doors'].value_counts().sort_values(ascending=False).index[0])"
   ]
  },
  {
   "cell_type": "code",
   "execution_count": 321,
   "id": "c82d275c",
   "metadata": {},
   "outputs": [],
   "source": [
    "def fill_with_mean(df, cols):\n",
    "    for col in cols:\n",
    "        df[col]=df[col].fillna(np.round(df[col].mean() ,3))\n",
    "    return df"
   ]
  },
  {
   "cell_type": "code",
   "execution_count": 322,
   "id": "2b458580",
   "metadata": {},
   "outputs": [],
   "source": [
    "df=fill_with_mean(df, ['bore', 'stroke', 'horsepower', 'peak-rpm', 'price'])"
   ]
  },
  {
   "cell_type": "code",
   "execution_count": 323,
   "id": "80ed9b5e",
   "metadata": {},
   "outputs": [
    {
     "data": {
      "text/plain": [
       "41"
      ]
     },
     "execution_count": 323,
     "metadata": {},
     "output_type": "execute_result"
    }
   ],
   "source": [
    "df.isnull().sum().sum()"
   ]
  },
  {
   "cell_type": "markdown",
   "id": "0cd82b64",
   "metadata": {},
   "source": [
    "# Outlier Analysis"
   ]
  },
  {
   "cell_type": "code",
   "execution_count": 324,
   "id": "a466ecc9",
   "metadata": {},
   "outputs": [
    {
     "data": {
      "image/png": "[encoded data removed]",
      "text/plain": [
       "<Figure size 432x288 with 1 Axes>"
      ]
     },
     "metadata": {
      "needs_background": "light"
     },
     "output_type": "display_data"
    },
    {
     "data": {
      "image/png": "[encoded data removed]",
      "text/plain": [
       "<Figure size 432x288 with 1 Axes>"
      ]
     },
     "metadata": {
      "needs_background": "light"
     },
     "output_type": "display_data"
    },
    {
     "data": {
      "image/png": "[encoded data removed]",
      "text/plain": [
       "<Figure size 432x288 with 1 Axes>"
      ]
     },
     "metadata": {
      "needs_background": "light"
     },
     "output_type": "display_data"
    },
    {
     "data": {
      "image/png": "[encoded data removed]",
      "text/plain": [
       "<Figure size 432x288 with 1 Axes>"
      ]
     },
     "metadata": {
      "needs_background": "light"
     },
     "output_type": "display_data"
    },
    {
     "data": {
      "image/png": "[encoded data removed]",
      "text/plain": [
       "<Figure size 432x288 with 1 Axes>"
      ]
     },
     "metadata": {
      "needs_background": "light"
     },
     "output_type": "display_data"
    },
    {
     "data": {
      "image/png": "[encoded data removed]",
      "text/plain": [
       "<Figure size 432x288 with 1 Axes>"
      ]
     },
     "metadata": {
      "needs_background": "light"
     },
     "output_type": "display_data"
    },
    {
     "data": {
      "image/png": "[encoded data removed]",
      "text/plain": [
       "<Figure size 432x288 with 1 Axes>"
      ]
     },
     "metadata": {
      "needs_background": "light"
     },
     "output_type": "display_data"
    },
    {
     "data": {
      "image/png": "[encoded data removed]",
      "text/plain": [
       "<Figure size 432x288 with 1 Axes>"
      ]
     },
     "metadata": {
      "needs_background": "light"
     },
     "output_type": "display_data"
    },
    {
     "data": {
      "image/png": "[encoded data removed]",
      "text/plain": [
       "<Figure size 432x288 with 1 Axes>"
      ]
     },
     "metadata": {
      "needs_background": "light"
     },
     "output_type": "display_data"
    },
    {
     "data": {
      "image/png": "[encoded data removed]",
      "text/plain": [
       "<Figure size 432x288 with 1 Axes>"
      ]
     },
     "metadata": {
      "needs_background": "light"
     },
     "output_type": "display_data"
    },
    {
     "data": {
      "image/png": "[encoded data removed]",
      "text/plain": [
       "<Figure size 432x288 with 1 Axes>"
      ]
     },
     "metadata": {
      "needs_background": "light"
     },
     "output_type": "display_data"
    },
    {
     "data": {
      "image/png": "[encoded data removed]",
      "text/plain": [
       "<Figure size 432x288 with 1 Axes>"
      ]
     },
     "metadata": {
      "needs_background": "light"
     },
     "output_type": "display_data"
    },
    {
     "data": {
      "image/png": "[encoded data removed]",
      "text/plain": [
       "<Figure size 432x288 with 1 Axes>"
      ]
     },
     "metadata": {
      "needs_background": "light"
     },
     "output_type": "display_data"
    },
    {
     "data": {
      "image/png": "[encoded data removed]",
      "text/plain": [
       "<Figure size 432x288 with 1 Axes>"
      ]
     },
     "metadata": {
      "needs_background": "light"
     },
     "output_type": "display_data"
    },
    {
     "data": {
      "image/png": "[encoded data removed]",
      "text/plain": [
       "<Figure size 432x288 with 1 Axes>"
      ]
     },
     "metadata": {
      "needs_background": "light"
     },
     "output_type": "display_data"
    },
    {
     "data": {
      "image/png": "[encoded data removed]",
      "text/plain": [
       "<Figure size 432x288 with 1 Axes>"
      ]
     },
     "metadata": {
      "needs_background": "light"
     },
     "output_type": "display_data"
    }
   ],
   "source": [
    "for col in df._get_numeric_data():\n",
    "    sns.boxplot(df[col])\n",
    "    plt.show()"
   ]
  },
  {
   "cell_type": "code",
   "execution_count": 325,
   "id": "46bf3daa",
   "metadata": {},
   "outputs": [],
   "source": [
    "def thresholds(dataframe, cols, q1=0.25, q3=0.75):\n",
    "    for col_name in cols:\n",
    "        quartile1 = dataframe[col_name].quantile(q1)\n",
    "        quartile3 = dataframe[col_name].quantile(q3)\n",
    "        IQR = quartile3 - quartile1\n",
    "        up_limit = quartile3 + 1.5 * IQR\n",
    "        low_limit = quartile1 - 1.5 * IQR\n",
    "        dataframe.loc[(dataframe[col_name] < low_limit), col_name] = low_limit\n",
    "        dataframe.loc[(dataframe[col_name] > up_limit), col_name] = up_limit\n",
    "    return dataframe"
   ]
  },
  {
   "cell_type": "code",
   "execution_count": 326,
   "id": "b91c5280",
   "metadata": {},
   "outputs": [],
   "source": [
    "df=thresholds(df, ['normalized-losses', 'wheel-base', 'length', 'width', 'engine-size', 'stroke', \n",
    "                   'compression-ratio', 'horsepower', 'highway-mpg', 'price'])"
   ]
  },
  {
   "cell_type": "code",
   "execution_count": 327,
   "id": "203b756f",
   "metadata": {},
   "outputs": [],
   "source": [
    "df=df.query(\"`city-mpg`<45\")"
   ]
  },
  {
   "cell_type": "code",
   "execution_count": 328,
   "id": "3c62199c",
   "metadata": {},
   "outputs": [],
   "source": [
    "df=df.query(\"`highway-mpg`<48\")"
   ]
  },
  {
   "cell_type": "code",
   "execution_count": 329,
   "id": "0137ce4f",
   "metadata": {},
   "outputs": [
    {
     "data": {
      "image/png": "[encoded data removed]",
      "text/plain": [
       "<Figure size 432x288 with 1 Axes>"
      ]
     },
     "metadata": {
      "needs_background": "light"
     },
     "output_type": "display_data"
    },
    {
     "data": {
      "image/png": "[encoded data removed]",
      "text/plain": [
       "<Figure size 432x288 with 1 Axes>"
      ]
     },
     "metadata": {
      "needs_background": "light"
     },
     "output_type": "display_data"
    },
    {
     "data": {
      "image/png": "[encoded data removed]",
      "text/plain": [
       "<Figure size 432x288 with 1 Axes>"
      ]
     },
     "metadata": {
      "needs_background": "light"
     },
     "output_type": "display_data"
    },
    {
     "data": {
      "image/png": "[encoded data removed]",
      "text/plain": [
       "<Figure size 432x288 with 1 Axes>"
      ]
     },
     "metadata": {
      "needs_background": "light"
     },
     "output_type": "display_data"
    },
    {
     "data": {
      "image/png": "[encoded data removed]",
      "text/plain": [
       "<Figure size 432x288 with 1 Axes>"
      ]
     },
     "metadata": {
      "needs_background": "light"
     },
     "output_type": "display_data"
    },
    {
     "data": {
      "image/png": "[encoded data removed]",
      "text/plain": [
       "<Figure size 432x288 with 1 Axes>"
      ]
     },
     "metadata": {
      "needs_background": "light"
     },
     "output_type": "display_data"
    },
    {
     "data": {
      "image/png": "[encoded data removed]",
      "text/plain": [
       "<Figure size 432x288 with 1 Axes>"
      ]
     },
     "metadata": {
      "needs_background": "light"
     },
     "output_type": "display_data"
    },
    {
     "data": {
      "image/png": "[encoded data removed]",
      "text/plain": [
       "<Figure size 432x288 with 1 Axes>"
      ]
     },
     "metadata": {
      "needs_background": "light"
     },
     "output_type": "display_data"
    },
    {
     "data": {
      "image/png": "[encoded data removed]",
      "text/plain": [
       "<Figure size 432x288 with 1 Axes>"
      ]
     },
     "metadata": {
      "needs_background": "light"
     },
     "output_type": "display_data"
    },
    {
     "data": {
      "image/png": "[encoded data removed]",
      "text/plain": [
       "<Figure size 432x288 with 1 Axes>"
      ]
     },
     "metadata": {
      "needs_background": "light"
     },
     "output_type": "display_data"
    },
    {
     "data": {
      "image/png": "[encoded data removed]",
      "text/plain": [
       "<Figure size 432x288 with 1 Axes>"
      ]
     },
     "metadata": {
      "needs_background": "light"
     },
     "output_type": "display_data"
    },
    {
     "data": {
      "image/png": "[encoded data removed]",
      "text/plain": [
       "<Figure size 432x288 with 1 Axes>"
      ]
     },
     "metadata": {
      "needs_background": "light"
     },
     "output_type": "display_data"
    },
    {
     "data": {
      "image/png": "[encoded data removed]",
      "text/plain": [
       "<Figure size 432x288 with 1 Axes>"
      ]
     },
     "metadata": {
      "needs_background": "light"
     },
     "output_type": "display_data"
    },
    {
     "data": {
      "image/png": "[encoded data removed]",
      "text/plain": [
       "<Figure size 432x288 with 1 Axes>"
      ]
     },
     "metadata": {
      "needs_background": "light"
     },
     "output_type": "display_data"
    },
    {
     "data": {
      "image/png": "[encoded data removed]",
      "text/plain": [
       "<Figure size 432x288 with 1 Axes>"
      ]
     },
     "metadata": {
      "needs_background": "light"
     },
     "output_type": "display_data"
    },
    {
     "data": {
      "image/png": "[encoded data removed]",
      "text/plain": [
       "<Figure size 432x288 with 1 Axes>"
      ]
     },
     "metadata": {
      "needs_background": "light"
     },
     "output_type": "display_data"
    }
   ],
   "source": [
    "for col in df._get_numeric_data():\n",
    "    sns.boxplot(df[col])\n",
    "    plt.show()"
   ]
  },
  {
   "cell_type": "markdown",
   "id": "41225845",
   "metadata": {},
   "source": [
    "# Encoding"
   ]
  },
  {
   "cell_type": "code",
   "execution_count": 330,
   "id": "4f4d0bd4",
   "metadata": {},
   "outputs": [],
   "source": [
    "df=pd.get_dummies(df, drop_first=True)"
   ]
  },
  {
   "cell_type": "code",
   "execution_count": 331,
   "id": "a1269a9e",
   "metadata": {},
   "outputs": [],
   "source": [
    "from sklearn.impute import KNNImputer"
   ]
  },
  {
   "cell_type": "code",
   "execution_count": 332,
   "id": "0879caa0",
   "metadata": {},
   "outputs": [],
   "source": [
    "def knn_imputer(df, n):\n",
    "    imputer = KNNImputer(n_neighbors = n)\n",
    "    df_filled = imputer.fit_transform(df)\n",
    "    df_knn_imp = pd.DataFrame(df_filled,columns = df.columns)\n",
    "    return df_knn_imp"
   ]
  },
  {
   "cell_type": "code",
   "execution_count": 333,
   "id": "8c2da9e5",
   "metadata": {},
   "outputs": [],
   "source": [
    "df=knn_imputer(df, 4)"
   ]
  },
  {
   "cell_type": "code",
   "execution_count": 335,
   "id": "91034e2b",
   "metadata": {},
   "outputs": [
    {
     "data": {
      "text/plain": [
       "0"
      ]
     },
     "execution_count": 335,
     "metadata": {},
     "output_type": "execute_result"
    }
   ],
   "source": [
    "df.isnull().sum().sum()"
   ]
  },
  {
   "cell_type": "markdown",
   "id": "2202aa7c",
   "metadata": {},
   "source": [
    "# Building Model"
   ]
  },
  {
   "cell_type": "code",
   "execution_count": 140,
   "id": "7826995d",
   "metadata": {},
   "outputs": [],
   "source": [
    "from sklearn.model_selection import train_test_split, GridSearchCV, cross_val_score\n",
    "from sklearn.linear_model import LinearRegression, Lasso, Ridge, ElasticNet\n",
    "from sklearn.metrics import mean_squared_error, r2_score\n",
    "from sklearn.neighbors import KNeighborsRegressor\n",
    "from sklearn.tree import DecisionTreeRegressor\n",
    "from catboost import CatBoostRegressor\n",
    "from lightgbm import LGBMRegressor"
   ]
  },
  {
   "cell_type": "code",
   "execution_count": 336,
   "id": "c4a0c8de",
   "metadata": {},
   "outputs": [],
   "source": [
    "X=df.drop('price', axis=1)\n",
    "Y=df[['price']]"
   ]
  },
  {
   "cell_type": "code",
   "execution_count": 337,
   "id": "a0bdd181",
   "metadata": {},
   "outputs": [],
   "source": [
    "models=[LinearRegression(), Lasso(), Ridge(), ElasticNet(), KNeighborsRegressor(), DecisionTreeRegressor(), LGBMRegressor()]"
   ]
  },
  {
   "cell_type": "code",
   "execution_count": 338,
   "id": "6f7a4428",
   "metadata": {},
   "outputs": [],
   "source": [
    "def best_randomstate(x,y, models):\n",
    "    randomstate={}\n",
    "    for model_ in models:\n",
    "        model=model_\n",
    "        errors={}\n",
    "        for i in range(1,201):\n",
    "            xtrain,xtest,ytrain,ytest=train_test_split(x,y,test_size=0.25,random_state=i)\n",
    "            model.fit(xtrain,ytrain)\n",
    "            p=model.predict(xtest)\n",
    "            errors[i]=mean_squared_error(ytest, p)\n",
    "            randomstate[model_]=min(errors, key=errors.get)\n",
    "    return randomstate"
   ]
  },
  {
   "cell_type": "code",
   "execution_count": 339,
   "id": "63d5f3b4",
   "metadata": {},
   "outputs": [
    {
     "data": {
      "text/plain": [
       "{LinearRegression(): 8,\n",
       " Lasso(): 8,\n",
       " Ridge(): 191,\n",
       " ElasticNet(): 191,\n",
       " KNeighborsRegressor(): 15,\n",
       " DecisionTreeRegressor(): 157,\n",
       " LGBMRegressor(): 99}"
      ]
     },
     "execution_count": 339,
     "metadata": {},
     "output_type": "execute_result"
    }
   ],
   "source": [
    "randomstate=best_randomstate(X,Y, models)\n",
    "randomstate"
   ]
  },
  {
   "cell_type": "code",
   "execution_count": 340,
   "id": "2b6a71f5",
   "metadata": {},
   "outputs": [],
   "source": [
    "def reg_models(x, y, models, randomstate):\n",
    "    for model in models:\n",
    "        X_train, X_test, Y_train, Y_test=train_test_split(x, y, test_size=0.25, random_state=randomstate.get(model))\n",
    "        model.fit(X_train,Y_train)\n",
    "        Y_test_pred=model.predict(X_test)\n",
    "        print(model)\n",
    "        print('Mean Squared Error: {}'.format(mean_squared_error(Y_test, Y_test_pred)))\n",
    "        print('Regression Score(r2): {}'.format(r2_score(Y_test, Y_test_pred)))\n",
    "        print('-----------------------------------------------------')"
   ]
  },
  {
   "cell_type": "code",
   "execution_count": 341,
   "id": "d149552b",
   "metadata": {},
   "outputs": [
    {
     "name": "stdout",
     "output_type": "stream",
     "text": [
      "LinearRegression()\n",
      "Mean Squared Error: 2411935.838989306\n",
      "Regression Score(r2): 0.9366049355028729\n",
      "-----------------------------------------------------\n",
      "Lasso()\n",
      "Mean Squared Error: 2404922.7273975825\n",
      "Regression Score(r2): 0.936789267380403\n",
      "-----------------------------------------------------\n",
      "Ridge()\n",
      "Mean Squared Error: 1893497.8276378699\n",
      "Regression Score(r2): 0.9301437629087198\n",
      "-----------------------------------------------------\n",
      "ElasticNet()\n",
      "Mean Squared Error: 3961908.676420272\n",
      "Regression Score(r2): 0.8538345131458236\n",
      "-----------------------------------------------------\n",
      "KNeighborsRegressor()\n",
      "Mean Squared Error: 3499416.9509824836\n",
      "Regression Score(r2): 0.9000684788442141\n",
      "-----------------------------------------------------\n",
      "DecisionTreeRegressor()\n",
      "Mean Squared Error: 3057994.7107843137\n",
      "Regression Score(r2): 0.8931550344441612\n",
      "-----------------------------------------------------\n",
      "LGBMRegressor()\n",
      "Mean Squared Error: 2740043.5640181256\n",
      "Regression Score(r2): 0.9460817255021474\n",
      "-----------------------------------------------------\n"
     ]
    }
   ],
   "source": [
    "reg_models(X, Y, models, randomstate)"
   ]
  },
  {
   "cell_type": "markdown",
   "id": "aeda1e85",
   "metadata": {},
   "source": [
    "# HyperParameter Tuning"
   ]
  },
  {
   "cell_type": "code",
   "execution_count": 342,
   "id": "f04ebdbb",
   "metadata": {},
   "outputs": [],
   "source": [
    "model_parameters={\n",
    "    'Linear Regression':{\n",
    "        'model': LinearRegression(),\n",
    "        'params': {'fit_intercept': [True , False],\n",
    "                   'normalize': [True, False], \n",
    "                    'positive': [True, False]}},\n",
    "    'Lasso Regression': {\n",
    "        'model': Lasso(),\n",
    "        'params': {'selection': ['cyclic', 'random'], \n",
    "                  'alpha': [0.1,0.01, 0.005, 0.05, 0.001 ,0.2, 0.3, 0.5, 0.8, 0.9, 1]}},\n",
    "    'Ridge Regression' : {\n",
    "        'model': Ridge(),\n",
    "        'params': {'alpha': [0.1, 0.01, 0.005, 0.05, 0.001 ,0.2, 0.3, 0.5, 0.8, 0.9, 1], \n",
    "                   'solver': ['auto', 'svd', 'cholesky']}},\n",
    "    'ElasticNet': {\n",
    "        'model': ElasticNet(), \n",
    "        'params': {'alpha': [0.1,0.01, 0.005, 0.05, 0.001 ,0.2, 0.3, 0.5, 0.8, 0.9, 1],\n",
    "                  'selection': ['cyclic', 'random']}},\n",
    "    'KNeighborsRegeressor': {\n",
    "        'model': KNeighborsRegressor(), \n",
    "        'params': {'algorithm': ['auto', 'ball_tree', 'kd_tree', 'brute'], \n",
    "                  'weights': ['uniform', 'distance'],\n",
    "                  'n_neighbors': [3, 4, 5]}},\n",
    "    'DecisionTreeRegressor': {\n",
    "        'model': DecisionTreeRegressor(),\n",
    "        'params': {'criterion': ['mse', 'friedman_mse', 'mae', 'poisson'],\n",
    "                   'splitter': ['best', 'random']}}, \n",
    "    'LGBMRegressor': {\n",
    "        'model': LGBMRegressor(),\n",
    "        'params': {'learning_rate ': [0.1, 0.2], 'max_depth': list(range(-1, 2, 1)), \n",
    "                   'n_estimators': list(range(97, 103))}}\n",
    "}"
   ]
  },
  {
   "cell_type": "code",
   "execution_count": 343,
   "id": "760563de",
   "metadata": {},
   "outputs": [],
   "source": [
    "def tuning(x, y, model_params, randomstate):\n",
    "    results=[]\n",
    "    index=0\n",
    "    for model_name, mp in model_params.items():\n",
    "        X_train, X_test, Y_train, Y_test = train_test_split(x, y, test_size=0.25, random_state=list(randomstate.values())[index])\n",
    "        index+=1\n",
    "        clf=GridSearchCV(mp['model'], mp['params'], cv=5, return_train_score=True)\n",
    "        clf.fit(X_train, Y_train)\n",
    "        Y_test_pred=clf.predict(X_test)\n",
    "        test_error=mean_squared_error(Y_test, Y_test_pred)\n",
    "        r2score=r2_score(Y_test, Y_test_pred)                                                  \n",
    "        print(model_name)\n",
    "        print('Mean Squared Error: {}'.format(test_error))\n",
    "        print('Regression Score(r2): {}'.format(r2score))\n",
    "        print('------------------------------------------------------')\n",
    "        results.append({'model': model_name, \n",
    "                        'MSE': test_error,\n",
    "                        'R2 Score': r2score,\n",
    "                        'best_score': clf.best_score_,\n",
    "                        'best_params': clf.best_params_})\n",
    "    return results"
   ]
  },
  {
   "cell_type": "code",
   "execution_count": 344,
   "id": "7015d3c4",
   "metadata": {},
   "outputs": [
    {
     "name": "stdout",
     "output_type": "stream",
     "text": [
      "Linear Regression\n",
      "Mean Squared Error: 3690276.6590061584\n",
      "Regression Score(r2): 0.9030051616514102\n",
      "------------------------------------------------------\n",
      "Lasso Regression\n",
      "Mean Squared Error: 2430204.909687562\n",
      "Regression Score(r2): 0.9361247531959904\n",
      "------------------------------------------------------\n",
      "Ridge Regression\n",
      "Mean Squared Error: 1845843.1767061262\n",
      "Regression Score(r2): 0.9319018713920778\n",
      "------------------------------------------------------\n",
      "ElasticNet\n",
      "Mean Squared Error: 1835734.8134840215\n",
      "Regression Score(r2): 0.9322747961493927\n",
      "------------------------------------------------------\n",
      "KNeighborsRegeressor\n",
      "Mean Squared Error: 3771454.6743839765\n",
      "Regression Score(r2): 0.8923000008685801\n",
      "------------------------------------------------------\n",
      "DecisionTreeRegressor\n",
      "Mean Squared Error: 3748163.8088235296\n",
      "Regression Score(r2): 0.8690408352770896\n",
      "------------------------------------------------------\n",
      "[LightGBM] [Warning] learning_rate is set=0.1, learning_rate= will be ignored. Current value: learning_rate=0.1\n",
      "[LightGBM] [Warning] Unknown parameter: 0.1\n",
      "[LightGBM] [Warning] learning_rate is set=0.1, learning_rate= will be ignored. Current value: learning_rate=0.1\n",
      "[LightGBM] [Warning] Unknown parameter: 0.1\n",
      "[LightGBM] [Warning] learning_rate is set=0.1, learning_rate= will be ignored. Current value: learning_rate=0.1\n",
      "[LightGBM] [Warning] Unknown parameter: 0.1\n",
      "[LightGBM] [Warning] learning_rate is set=0.1, learning_rate= will be ignored. Current value: learning_rate=0.1\n",
      "[LightGBM] [Warning] Unknown parameter: 0.1\n",
      "[LightGBM] [Warning] learning_rate is set=0.1, learning_rate= will be ignored. Current value: learning_rate=0.1\n",
      "[LightGBM] [Warning] Unknown parameter: 0.1\n",
      "[LightGBM] [Warning] learning_rate is set=0.1, learning_rate= will be ignored. Current value: learning_rate=0.1\n",
      "[LightGBM] [Warning] Unknown parameter: 0.1\n",
      "[LightGBM] [Warning] learning_rate is set=0.1, learning_rate= will be ignored. Current value: learning_rate=0.1\n",
      "[LightGBM] [Warning] Unknown parameter: 0.1\n",
      "[LightGBM] [Warning] learning_rate is set=0.1, learning_rate= will be ignored. Current value: learning_rate=0.1\n",
      "[LightGBM] [Warning] Unknown parameter: 0.1\n",
      "[LightGBM] [Warning] learning_rate is set=0.1, learning_rate= will be ignored. Current value: learning_rate=0.1\n",
      "[LightGBM] [Warning] Unknown parameter: 0.1\n",
      "[LightGBM] [Warning] learning_rate is set=0.1, learning_rate= will be ignored. Current value: learning_rate=0.1\n",
      "[LightGBM] [Warning] Unknown parameter: 0.1\n",
      "[LightGBM] [Warning] learning_rate is set=0.1, learning_rate= will be ignored. Current value: learning_rate=0.1\n",
      "[LightGBM] [Warning] Unknown parameter: 0.1\n",
      "[LightGBM] [Warning] learning_rate is set=0.1, learning_rate= will be ignored. Current value: learning_rate=0.1\n",
      "[LightGBM] [Warning] Unknown parameter: 0.1\n",
      "[LightGBM] [Warning] learning_rate is set=0.1, learning_rate= will be ignored. Current value: learning_rate=0.1\n",
      "[LightGBM] [Warning] Unknown parameter: 0.1\n",
      "[LightGBM] [Warning] learning_rate is set=0.1, learning_rate= will be ignored. Current value: learning_rate=0.1\n",
      "[LightGBM] [Warning] Unknown parameter: 0.1\n",
      "[LightGBM] [Warning] learning_rate is set=0.1, learning_rate= will be ignored. Current value: learning_rate=0.1\n",
      "[LightGBM] [Warning] Unknown parameter: 0.1\n",
      "[LightGBM] [Warning] learning_rate is set=0.1, learning_rate= will be ignored. Current value: learning_rate=0.1\n",
      "[LightGBM] [Warning] Unknown parameter: 0.1\n",
      "[LightGBM] [Warning] learning_rate is set=0.1, learning_rate= will be ignored. Current value: learning_rate=0.1\n",
      "[LightGBM] [Warning] Unknown parameter: 0.1\n",
      "[LightGBM] [Warning] learning_rate is set=0.1, learning_rate= will be ignored. Current value: learning_rate=0.1\n",
      "[LightGBM] [Warning] Unknown parameter: 0.1\n",
      "[LightGBM] [Warning] learning_rate is set=0.1, learning_rate= will be ignored. Current value: learning_rate=0.1\n",
      "[LightGBM] [Warning] Unknown parameter: 0.1\n",
      "[LightGBM] [Warning] learning_rate is set=0.1, learning_rate= will be ignored. Current value: learning_rate=0.1\n",
      "[LightGBM] [Warning] Unknown parameter: 0.1\n",
      "[LightGBM] [Warning] learning_rate is set=0.1, learning_rate= will be ignored. Current value: learning_rate=0.1\n",
      "[LightGBM] [Warning] Unknown parameter: 0.1\n",
      "[LightGBM] [Warning] learning_rate is set=0.1, learning_rate= will be ignored. Current value: learning_rate=0.1\n",
      "[LightGBM] [Warning] Unknown parameter: 0.1\n",
      "[LightGBM] [Warning] learning_rate is set=0.1, learning_rate= will be ignored. Current value: learning_rate=0.1\n",
      "[LightGBM] [Warning] Unknown parameter: 0.1\n",
      "[LightGBM] [Warning] learning_rate is set=0.1, learning_rate= will be ignored. Current value: learning_rate=0.1\n",
      "[LightGBM] [Warning] Unknown parameter: 0.1\n",
      "[LightGBM] [Warning] learning_rate is set=0.1, learning_rate= will be ignored. Current value: learning_rate=0.1\n",
      "[LightGBM] [Warning] Unknown parameter: 0.1\n",
      "[LightGBM] [Warning] learning_rate is set=0.1, learning_rate= will be ignored. Current value: learning_rate=0.1\n",
      "[LightGBM] [Warning] Unknown parameter: 0.1\n",
      "[LightGBM] [Warning] learning_rate is set=0.1, learning_rate= will be ignored. Current value: learning_rate=0.1\n",
      "[LightGBM] [Warning] Unknown parameter: 0.1\n",
      "[LightGBM] [Warning] learning_rate is set=0.1, learning_rate= will be ignored. Current value: learning_rate=0.1\n",
      "[LightGBM] [Warning] Unknown parameter: 0.1\n",
      "[LightGBM] [Warning] learning_rate is set=0.1, learning_rate= will be ignored. Current value: learning_rate=0.1\n",
      "[LightGBM] [Warning] Unknown parameter: 0.1\n",
      "[LightGBM] [Warning] learning_rate is set=0.1, learning_rate= will be ignored. Current value: learning_rate=0.1\n",
      "[LightGBM] [Warning] Unknown parameter: 0.1\n",
      "[LightGBM] [Warning] learning_rate is set=0.1, learning_rate= will be ignored. Current value: learning_rate=0.1\n",
      "[LightGBM] [Warning] Unknown parameter: 0.1\n",
      "[LightGBM] [Warning] learning_rate is set=0.1, learning_rate= will be ignored. Current value: learning_rate=0.1\n",
      "[LightGBM] [Warning] Unknown parameter: 0.1\n",
      "[LightGBM] [Warning] learning_rate is set=0.1, learning_rate= will be ignored. Current value: learning_rate=0.1\n",
      "[LightGBM] [Warning] Unknown parameter: 0.1\n",
      "[LightGBM] [Warning] learning_rate is set=0.1, learning_rate= will be ignored. Current value: learning_rate=0.1\n",
      "[LightGBM] [Warning] Unknown parameter: 0.1\n",
      "[LightGBM] [Warning] learning_rate is set=0.1, learning_rate= will be ignored. Current value: learning_rate=0.1\n",
      "[LightGBM] [Warning] Unknown parameter: 0.1\n",
      "[LightGBM] [Warning] learning_rate is set=0.1, learning_rate= will be ignored. Current value: learning_rate=0.1\n",
      "[LightGBM] [Warning] Unknown parameter: 0.1\n",
      "[LightGBM] [Warning] learning_rate is set=0.1, learning_rate= will be ignored. Current value: learning_rate=0.1\n",
      "[LightGBM] [Warning] Unknown parameter: 0.1\n",
      "[LightGBM] [Warning] learning_rate is set=0.1, learning_rate= will be ignored. Current value: learning_rate=0.1\n",
      "[LightGBM] [Warning] Unknown parameter: 0.1\n",
      "[LightGBM] [Warning] learning_rate is set=0.1, learning_rate= will be ignored. Current value: learning_rate=0.1\n",
      "[LightGBM] [Warning] Unknown parameter: 0.1\n",
      "[LightGBM] [Warning] learning_rate is set=0.1, learning_rate= will be ignored. Current value: learning_rate=0.1\n",
      "[LightGBM] [Warning] Unknown parameter: 0.1\n",
      "[LightGBM] [Warning] learning_rate is set=0.1, learning_rate= will be ignored. Current value: learning_rate=0.1\n",
      "[LightGBM] [Warning] Unknown parameter: 0.1\n",
      "[LightGBM] [Warning] learning_rate is set=0.1, learning_rate= will be ignored. Current value: learning_rate=0.1\n",
      "[LightGBM] [Warning] Unknown parameter: 0.1\n",
      "[LightGBM] [Warning] learning_rate is set=0.1, learning_rate= will be ignored. Current value: learning_rate=0.1\n",
      "[LightGBM] [Warning] Unknown parameter: 0.1\n",
      "[LightGBM] [Warning] learning_rate is set=0.1, learning_rate= will be ignored. Current value: learning_rate=0.1\n",
      "[LightGBM] [Warning] Unknown parameter: 0.1\n",
      "[LightGBM] [Warning] learning_rate is set=0.1, learning_rate= will be ignored. Current value: learning_rate=0.1\n",
      "[LightGBM] [Warning] Unknown parameter: 0.1\n",
      "[LightGBM] [Warning] learning_rate is set=0.1, learning_rate= will be ignored. Current value: learning_rate=0.1\n",
      "[LightGBM] [Warning] Unknown parameter: 0.1\n",
      "[LightGBM] [Warning] learning_rate is set=0.1, learning_rate= will be ignored. Current value: learning_rate=0.1\n",
      "[LightGBM] [Warning] Unknown parameter: 0.1\n",
      "[LightGBM] [Warning] learning_rate is set=0.1, learning_rate= will be ignored. Current value: learning_rate=0.1\n",
      "[LightGBM] [Warning] Unknown parameter: 0.1\n",
      "[LightGBM] [Warning] learning_rate is set=0.1, learning_rate= will be ignored. Current value: learning_rate=0.1\n",
      "[LightGBM] [Warning] Unknown parameter: 0.1\n"
     ]
    },
    {
     "name": "stdout",
     "output_type": "stream",
     "text": [
      "[LightGBM] [Warning] learning_rate is set=0.1, learning_rate= will be ignored. Current value: learning_rate=0.1\n",
      "[LightGBM] [Warning] Unknown parameter: 0.1\n",
      "[LightGBM] [Warning] learning_rate is set=0.1, learning_rate= will be ignored. Current value: learning_rate=0.1\n",
      "[LightGBM] [Warning] Unknown parameter: 0.1\n",
      "[LightGBM] [Warning] learning_rate is set=0.1, learning_rate= will be ignored. Current value: learning_rate=0.1\n",
      "[LightGBM] [Warning] Unknown parameter: 0.1\n",
      "[LightGBM] [Warning] learning_rate is set=0.1, learning_rate= will be ignored. Current value: learning_rate=0.1\n",
      "[LightGBM] [Warning] Unknown parameter: 0.1\n",
      "[LightGBM] [Warning] learning_rate is set=0.1, learning_rate= will be ignored. Current value: learning_rate=0.1\n",
      "[LightGBM] [Warning] Unknown parameter: 0.1\n",
      "[LightGBM] [Warning] learning_rate is set=0.1, learning_rate= will be ignored. Current value: learning_rate=0.1\n",
      "[LightGBM] [Warning] Unknown parameter: 0.1\n",
      "[LightGBM] [Warning] learning_rate is set=0.1, learning_rate= will be ignored. Current value: learning_rate=0.1\n",
      "[LightGBM] [Warning] Unknown parameter: 0.1\n",
      "[LightGBM] [Warning] learning_rate is set=0.1, learning_rate= will be ignored. Current value: learning_rate=0.1\n",
      "[LightGBM] [Warning] Unknown parameter: 0.1\n",
      "[LightGBM] [Warning] learning_rate is set=0.1, learning_rate= will be ignored. Current value: learning_rate=0.1\n",
      "[LightGBM] [Warning] Unknown parameter: 0.1\n",
      "[LightGBM] [Warning] learning_rate is set=0.1, learning_rate= will be ignored. Current value: learning_rate=0.1\n",
      "[LightGBM] [Warning] Unknown parameter: 0.1\n",
      "[LightGBM] [Warning] learning_rate is set=0.1, learning_rate= will be ignored. Current value: learning_rate=0.1\n",
      "[LightGBM] [Warning] Unknown parameter: 0.1\n",
      "[LightGBM] [Warning] learning_rate is set=0.1, learning_rate= will be ignored. Current value: learning_rate=0.1\n",
      "[LightGBM] [Warning] Unknown parameter: 0.1\n",
      "[LightGBM] [Warning] learning_rate is set=0.1, learning_rate= will be ignored. Current value: learning_rate=0.1\n",
      "[LightGBM] [Warning] Unknown parameter: 0.1\n",
      "[LightGBM] [Warning] learning_rate is set=0.1, learning_rate= will be ignored. Current value: learning_rate=0.1\n",
      "[LightGBM] [Warning] Unknown parameter: 0.1\n",
      "[LightGBM] [Warning] learning_rate is set=0.1, learning_rate= will be ignored. Current value: learning_rate=0.1\n",
      "[LightGBM] [Warning] Unknown parameter: 0.1\n",
      "[LightGBM] [Warning] learning_rate is set=0.1, learning_rate= will be ignored. Current value: learning_rate=0.1\n",
      "[LightGBM] [Warning] Unknown parameter: 0.1\n",
      "[LightGBM] [Warning] learning_rate is set=0.1, learning_rate= will be ignored. Current value: learning_rate=0.1\n",
      "[LightGBM] [Warning] Unknown parameter: 0.1\n",
      "[LightGBM] [Warning] learning_rate is set=0.1, learning_rate= will be ignored. Current value: learning_rate=0.1\n",
      "[LightGBM] [Warning] Unknown parameter: 0.1\n",
      "[LightGBM] [Warning] learning_rate is set=0.1, learning_rate= will be ignored. Current value: learning_rate=0.1\n",
      "[LightGBM] [Warning] Unknown parameter: 0.1\n",
      "[LightGBM] [Warning] learning_rate is set=0.1, learning_rate= will be ignored. Current value: learning_rate=0.1\n",
      "[LightGBM] [Warning] Unknown parameter: 0.1\n",
      "[LightGBM] [Warning] learning_rate is set=0.1, learning_rate= will be ignored. Current value: learning_rate=0.1\n",
      "[LightGBM] [Warning] Unknown parameter: 0.1\n",
      "[LightGBM] [Warning] learning_rate is set=0.1, learning_rate= will be ignored. Current value: learning_rate=0.1\n",
      "[LightGBM] [Warning] Unknown parameter: 0.1\n",
      "[LightGBM] [Warning] learning_rate is set=0.1, learning_rate= will be ignored. Current value: learning_rate=0.1\n",
      "[LightGBM] [Warning] Unknown parameter: 0.1\n",
      "[LightGBM] [Warning] learning_rate is set=0.1, learning_rate= will be ignored. Current value: learning_rate=0.1\n",
      "[LightGBM] [Warning] Unknown parameter: 0.1\n",
      "[LightGBM] [Warning] learning_rate is set=0.1, learning_rate= will be ignored. Current value: learning_rate=0.1\n",
      "[LightGBM] [Warning] Unknown parameter: 0.1\n",
      "[LightGBM] [Warning] learning_rate is set=0.1, learning_rate= will be ignored. Current value: learning_rate=0.1\n",
      "[LightGBM] [Warning] Unknown parameter: 0.1\n",
      "[LightGBM] [Warning] learning_rate is set=0.1, learning_rate= will be ignored. Current value: learning_rate=0.1\n",
      "[LightGBM] [Warning] Unknown parameter: 0.1\n",
      "[LightGBM] [Warning] learning_rate is set=0.1, learning_rate= will be ignored. Current value: learning_rate=0.1\n",
      "[LightGBM] [Warning] Unknown parameter: 0.1\n",
      "[LightGBM] [Warning] learning_rate is set=0.1, learning_rate= will be ignored. Current value: learning_rate=0.1\n",
      "[LightGBM] [Warning] Unknown parameter: 0.1\n",
      "[LightGBM] [Warning] learning_rate is set=0.1, learning_rate= will be ignored. Current value: learning_rate=0.1\n",
      "[LightGBM] [Warning] Unknown parameter: 0.1\n",
      "[LightGBM] [Warning] learning_rate is set=0.1, learning_rate= will be ignored. Current value: learning_rate=0.1\n",
      "[LightGBM] [Warning] Unknown parameter: 0.1\n",
      "[LightGBM] [Warning] learning_rate is set=0.1, learning_rate= will be ignored. Current value: learning_rate=0.1\n",
      "[LightGBM] [Warning] Unknown parameter: 0.1\n",
      "[LightGBM] [Warning] learning_rate is set=0.1, learning_rate= will be ignored. Current value: learning_rate=0.1\n",
      "[LightGBM] [Warning] Unknown parameter: 0.1\n",
      "[LightGBM] [Warning] learning_rate is set=0.1, learning_rate= will be ignored. Current value: learning_rate=0.1\n",
      "[LightGBM] [Warning] Unknown parameter: 0.1\n",
      "[LightGBM] [Warning] learning_rate is set=0.1, learning_rate= will be ignored. Current value: learning_rate=0.1\n",
      "[LightGBM] [Warning] Unknown parameter: 0.1\n",
      "[LightGBM] [Warning] learning_rate is set=0.1, learning_rate= will be ignored. Current value: learning_rate=0.1\n",
      "[LightGBM] [Warning] Unknown parameter: 0.1\n",
      "[LightGBM] [Warning] learning_rate is set=0.1, learning_rate= will be ignored. Current value: learning_rate=0.1\n",
      "[LightGBM] [Warning] Unknown parameter: 0.1\n",
      "[LightGBM] [Warning] learning_rate is set=0.1, learning_rate= will be ignored. Current value: learning_rate=0.1\n",
      "[LightGBM] [Warning] Unknown parameter: 0.1\n",
      "[LightGBM] [Warning] learning_rate is set=0.1, learning_rate= will be ignored. Current value: learning_rate=0.1\n",
      "[LightGBM] [Warning] Unknown parameter: 0.1\n",
      "[LightGBM] [Warning] learning_rate is set=0.1, learning_rate= will be ignored. Current value: learning_rate=0.1\n",
      "[LightGBM] [Warning] Unknown parameter: 0.1\n",
      "[LightGBM] [Warning] learning_rate is set=0.1, learning_rate= will be ignored. Current value: learning_rate=0.1\n",
      "[LightGBM] [Warning] Unknown parameter: 0.1\n",
      "[LightGBM] [Warning] learning_rate is set=0.1, learning_rate= will be ignored. Current value: learning_rate=0.1\n",
      "[LightGBM] [Warning] Unknown parameter: 0.2\n",
      "[LightGBM] [Warning] learning_rate is set=0.1, learning_rate= will be ignored. Current value: learning_rate=0.1\n",
      "[LightGBM] [Warning] Unknown parameter: 0.2\n",
      "[LightGBM] [Warning] learning_rate is set=0.1, learning_rate= will be ignored. Current value: learning_rate=0.1\n",
      "[LightGBM] [Warning] Unknown parameter: 0.2\n",
      "[LightGBM] [Warning] learning_rate is set=0.1, learning_rate= will be ignored. Current value: learning_rate=0.1\n",
      "[LightGBM] [Warning] Unknown parameter: 0.2\n",
      "[LightGBM] [Warning] learning_rate is set=0.1, learning_rate= will be ignored. Current value: learning_rate=0.1\n",
      "[LightGBM] [Warning] Unknown parameter: 0.2\n",
      "[LightGBM] [Warning] learning_rate is set=0.1, learning_rate= will be ignored. Current value: learning_rate=0.1\n",
      "[LightGBM] [Warning] Unknown parameter: 0.2\n",
      "[LightGBM] [Warning] learning_rate is set=0.1, learning_rate= will be ignored. Current value: learning_rate=0.1\n",
      "[LightGBM] [Warning] Unknown parameter: 0.2\n",
      "[LightGBM] [Warning] learning_rate is set=0.1, learning_rate= will be ignored. Current value: learning_rate=0.1\n",
      "[LightGBM] [Warning] Unknown parameter: 0.2\n",
      "[LightGBM] [Warning] learning_rate is set=0.1, learning_rate= will be ignored. Current value: learning_rate=0.1\n",
      "[LightGBM] [Warning] Unknown parameter: 0.2\n",
      "[LightGBM] [Warning] learning_rate is set=0.1, learning_rate= will be ignored. Current value: learning_rate=0.1\n",
      "[LightGBM] [Warning] Unknown parameter: 0.2\n",
      "[LightGBM] [Warning] learning_rate is set=0.1, learning_rate= will be ignored. Current value: learning_rate=0.1\n",
      "[LightGBM] [Warning] Unknown parameter: 0.2\n",
      "[LightGBM] [Warning] learning_rate is set=0.1, learning_rate= will be ignored. Current value: learning_rate=0.1\n",
      "[LightGBM] [Warning] Unknown parameter: 0.2\n"
     ]
    },
    {
     "name": "stdout",
     "output_type": "stream",
     "text": [
      "[LightGBM] [Warning] learning_rate is set=0.1, learning_rate= will be ignored. Current value: learning_rate=0.1\n",
      "[LightGBM] [Warning] Unknown parameter: 0.2\n",
      "[LightGBM] [Warning] learning_rate is set=0.1, learning_rate= will be ignored. Current value: learning_rate=0.1\n",
      "[LightGBM] [Warning] Unknown parameter: 0.2\n",
      "[LightGBM] [Warning] learning_rate is set=0.1, learning_rate= will be ignored. Current value: learning_rate=0.1\n",
      "[LightGBM] [Warning] Unknown parameter: 0.2\n",
      "[LightGBM] [Warning] learning_rate is set=0.1, learning_rate= will be ignored. Current value: learning_rate=0.1\n",
      "[LightGBM] [Warning] Unknown parameter: 0.2\n",
      "[LightGBM] [Warning] learning_rate is set=0.1, learning_rate= will be ignored. Current value: learning_rate=0.1\n",
      "[LightGBM] [Warning] Unknown parameter: 0.2\n",
      "[LightGBM] [Warning] learning_rate is set=0.1, learning_rate= will be ignored. Current value: learning_rate=0.1\n",
      "[LightGBM] [Warning] Unknown parameter: 0.2\n",
      "[LightGBM] [Warning] learning_rate is set=0.1, learning_rate= will be ignored. Current value: learning_rate=0.1\n",
      "[LightGBM] [Warning] Unknown parameter: 0.2\n",
      "[LightGBM] [Warning] learning_rate is set=0.1, learning_rate= will be ignored. Current value: learning_rate=0.1\n",
      "[LightGBM] [Warning] Unknown parameter: 0.2\n",
      "[LightGBM] [Warning] learning_rate is set=0.1, learning_rate= will be ignored. Current value: learning_rate=0.1\n",
      "[LightGBM] [Warning] Unknown parameter: 0.2\n",
      "[LightGBM] [Warning] learning_rate is set=0.1, learning_rate= will be ignored. Current value: learning_rate=0.1\n",
      "[LightGBM] [Warning] Unknown parameter: 0.2\n",
      "[LightGBM] [Warning] learning_rate is set=0.1, learning_rate= will be ignored. Current value: learning_rate=0.1\n",
      "[LightGBM] [Warning] Unknown parameter: 0.2\n",
      "[LightGBM] [Warning] learning_rate is set=0.1, learning_rate= will be ignored. Current value: learning_rate=0.1\n",
      "[LightGBM] [Warning] Unknown parameter: 0.2\n",
      "[LightGBM] [Warning] learning_rate is set=0.1, learning_rate= will be ignored. Current value: learning_rate=0.1\n",
      "[LightGBM] [Warning] Unknown parameter: 0.2\n",
      "[LightGBM] [Warning] learning_rate is set=0.1, learning_rate= will be ignored. Current value: learning_rate=0.1\n",
      "[LightGBM] [Warning] Unknown parameter: 0.2\n",
      "[LightGBM] [Warning] learning_rate is set=0.1, learning_rate= will be ignored. Current value: learning_rate=0.1\n",
      "[LightGBM] [Warning] Unknown parameter: 0.2\n",
      "[LightGBM] [Warning] learning_rate is set=0.1, learning_rate= will be ignored. Current value: learning_rate=0.1\n",
      "[LightGBM] [Warning] Unknown parameter: 0.2\n",
      "[LightGBM] [Warning] learning_rate is set=0.1, learning_rate= will be ignored. Current value: learning_rate=0.1\n",
      "[LightGBM] [Warning] Unknown parameter: 0.2\n",
      "[LightGBM] [Warning] learning_rate is set=0.1, learning_rate= will be ignored. Current value: learning_rate=0.1\n",
      "[LightGBM] [Warning] Unknown parameter: 0.2\n",
      "[LightGBM] [Warning] learning_rate is set=0.1, learning_rate= will be ignored. Current value: learning_rate=0.1\n",
      "[LightGBM] [Warning] Unknown parameter: 0.2\n",
      "[LightGBM] [Warning] learning_rate is set=0.1, learning_rate= will be ignored. Current value: learning_rate=0.1\n",
      "[LightGBM] [Warning] Unknown parameter: 0.2\n",
      "[LightGBM] [Warning] learning_rate is set=0.1, learning_rate= will be ignored. Current value: learning_rate=0.1\n",
      "[LightGBM] [Warning] Unknown parameter: 0.2\n",
      "[LightGBM] [Warning] learning_rate is set=0.1, learning_rate= will be ignored. Current value: learning_rate=0.1\n",
      "[LightGBM] [Warning] Unknown parameter: 0.2\n",
      "[LightGBM] [Warning] learning_rate is set=0.1, learning_rate= will be ignored. Current value: learning_rate=0.1\n",
      "[LightGBM] [Warning] Unknown parameter: 0.2\n",
      "[LightGBM] [Warning] learning_rate is set=0.1, learning_rate= will be ignored. Current value: learning_rate=0.1\n",
      "[LightGBM] [Warning] Unknown parameter: 0.2\n",
      "[LightGBM] [Warning] learning_rate is set=0.1, learning_rate= will be ignored. Current value: learning_rate=0.1\n",
      "[LightGBM] [Warning] Unknown parameter: 0.2\n",
      "[LightGBM] [Warning] learning_rate is set=0.1, learning_rate= will be ignored. Current value: learning_rate=0.1\n",
      "[LightGBM] [Warning] Unknown parameter: 0.2\n",
      "[LightGBM] [Warning] learning_rate is set=0.1, learning_rate= will be ignored. Current value: learning_rate=0.1\n",
      "[LightGBM] [Warning] Unknown parameter: 0.2\n",
      "[LightGBM] [Warning] learning_rate is set=0.1, learning_rate= will be ignored. Current value: learning_rate=0.1\n",
      "[LightGBM] [Warning] Unknown parameter: 0.2\n",
      "[LightGBM] [Warning] learning_rate is set=0.1, learning_rate= will be ignored. Current value: learning_rate=0.1\n",
      "[LightGBM] [Warning] Unknown parameter: 0.2\n",
      "[LightGBM] [Warning] learning_rate is set=0.1, learning_rate= will be ignored. Current value: learning_rate=0.1\n",
      "[LightGBM] [Warning] Unknown parameter: 0.2\n",
      "[LightGBM] [Warning] learning_rate is set=0.1, learning_rate= will be ignored. Current value: learning_rate=0.1\n",
      "[LightGBM] [Warning] Unknown parameter: 0.2\n",
      "[LightGBM] [Warning] learning_rate is set=0.1, learning_rate= will be ignored. Current value: learning_rate=0.1\n",
      "[LightGBM] [Warning] Unknown parameter: 0.2\n",
      "[LightGBM] [Warning] learning_rate is set=0.1, learning_rate= will be ignored. Current value: learning_rate=0.1\n",
      "[LightGBM] [Warning] Unknown parameter: 0.2\n",
      "[LightGBM] [Warning] learning_rate is set=0.1, learning_rate= will be ignored. Current value: learning_rate=0.1\n",
      "[LightGBM] [Warning] Unknown parameter: 0.2\n",
      "[LightGBM] [Warning] learning_rate is set=0.1, learning_rate= will be ignored. Current value: learning_rate=0.1\n",
      "[LightGBM] [Warning] Unknown parameter: 0.2\n",
      "[LightGBM] [Warning] learning_rate is set=0.1, learning_rate= will be ignored. Current value: learning_rate=0.1\n",
      "[LightGBM] [Warning] Unknown parameter: 0.2\n",
      "[LightGBM] [Warning] learning_rate is set=0.1, learning_rate= will be ignored. Current value: learning_rate=0.1\n",
      "[LightGBM] [Warning] Unknown parameter: 0.2\n",
      "[LightGBM] [Warning] learning_rate is set=0.1, learning_rate= will be ignored. Current value: learning_rate=0.1\n",
      "[LightGBM] [Warning] Unknown parameter: 0.2\n",
      "[LightGBM] [Warning] learning_rate is set=0.1, learning_rate= will be ignored. Current value: learning_rate=0.1\n",
      "[LightGBM] [Warning] Unknown parameter: 0.2\n",
      "[LightGBM] [Warning] learning_rate is set=0.1, learning_rate= will be ignored. Current value: learning_rate=0.1\n",
      "[LightGBM] [Warning] Unknown parameter: 0.2\n",
      "[LightGBM] [Warning] learning_rate is set=0.1, learning_rate= will be ignored. Current value: learning_rate=0.1\n",
      "[LightGBM] [Warning] Unknown parameter: 0.2\n",
      "[LightGBM] [Warning] learning_rate is set=0.1, learning_rate= will be ignored. Current value: learning_rate=0.1\n",
      "[LightGBM] [Warning] Unknown parameter: 0.2\n",
      "[LightGBM] [Warning] learning_rate is set=0.1, learning_rate= will be ignored. Current value: learning_rate=0.1\n",
      "[LightGBM] [Warning] Unknown parameter: 0.2\n",
      "[LightGBM] [Warning] learning_rate is set=0.1, learning_rate= will be ignored. Current value: learning_rate=0.1\n",
      "[LightGBM] [Warning] Unknown parameter: 0.2\n",
      "[LightGBM] [Warning] learning_rate is set=0.1, learning_rate= will be ignored. Current value: learning_rate=0.1\n",
      "[LightGBM] [Warning] Unknown parameter: 0.2\n",
      "[LightGBM] [Warning] learning_rate is set=0.1, learning_rate= will be ignored. Current value: learning_rate=0.1\n",
      "[LightGBM] [Warning] Unknown parameter: 0.2\n",
      "[LightGBM] [Warning] learning_rate is set=0.1, learning_rate= will be ignored. Current value: learning_rate=0.1\n",
      "[LightGBM] [Warning] Unknown parameter: 0.2\n",
      "[LightGBM] [Warning] learning_rate is set=0.1, learning_rate= will be ignored. Current value: learning_rate=0.1\n",
      "[LightGBM] [Warning] Unknown parameter: 0.2\n",
      "[LightGBM] [Warning] learning_rate is set=0.1, learning_rate= will be ignored. Current value: learning_rate=0.1\n",
      "[LightGBM] [Warning] Unknown parameter: 0.2\n",
      "[LightGBM] [Warning] learning_rate is set=0.1, learning_rate= will be ignored. Current value: learning_rate=0.1\n",
      "[LightGBM] [Warning] Unknown parameter: 0.2\n",
      "[LightGBM] [Warning] learning_rate is set=0.1, learning_rate= will be ignored. Current value: learning_rate=0.1\n",
      "[LightGBM] [Warning] Unknown parameter: 0.2\n",
      "[LightGBM] [Warning] learning_rate is set=0.1, learning_rate= will be ignored. Current value: learning_rate=0.1\n",
      "[LightGBM] [Warning] Unknown parameter: 0.2\n",
      "[LightGBM] [Warning] learning_rate is set=0.1, learning_rate= will be ignored. Current value: learning_rate=0.1\n",
      "[LightGBM] [Warning] Unknown parameter: 0.2\n",
      "[LightGBM] [Warning] learning_rate is set=0.1, learning_rate= will be ignored. Current value: learning_rate=0.1\n",
      "[LightGBM] [Warning] Unknown parameter: 0.2\n",
      "[LightGBM] [Warning] learning_rate is set=0.1, learning_rate= will be ignored. Current value: learning_rate=0.1\n",
      "[LightGBM] [Warning] Unknown parameter: 0.2\n",
      "[LightGBM] [Warning] learning_rate is set=0.1, learning_rate= will be ignored. Current value: learning_rate=0.1\n",
      "[LightGBM] [Warning] Unknown parameter: 0.2\n",
      "[LightGBM] [Warning] learning_rate is set=0.1, learning_rate= will be ignored. Current value: learning_rate=0.1\n",
      "[LightGBM] [Warning] Unknown parameter: 0.2\n",
      "[LightGBM] [Warning] learning_rate is set=0.1, learning_rate= will be ignored. Current value: learning_rate=0.1\n",
      "[LightGBM] [Warning] Unknown parameter: 0.2\n",
      "[LightGBM] [Warning] learning_rate is set=0.1, learning_rate= will be ignored. Current value: learning_rate=0.1\n"
     ]
    },
    {
     "name": "stdout",
     "output_type": "stream",
     "text": [
      "[LightGBM] [Warning] Unknown parameter: 0.2\n",
      "[LightGBM] [Warning] learning_rate is set=0.1, learning_rate= will be ignored. Current value: learning_rate=0.1\n",
      "[LightGBM] [Warning] Unknown parameter: 0.2\n",
      "[LightGBM] [Warning] learning_rate is set=0.1, learning_rate= will be ignored. Current value: learning_rate=0.1\n",
      "[LightGBM] [Warning] Unknown parameter: 0.2\n",
      "[LightGBM] [Warning] learning_rate is set=0.1, learning_rate= will be ignored. Current value: learning_rate=0.1\n",
      "[LightGBM] [Warning] Unknown parameter: 0.2\n",
      "[LightGBM] [Warning] learning_rate is set=0.1, learning_rate= will be ignored. Current value: learning_rate=0.1\n",
      "[LightGBM] [Warning] Unknown parameter: 0.2\n",
      "[LightGBM] [Warning] learning_rate is set=0.1, learning_rate= will be ignored. Current value: learning_rate=0.1\n",
      "[LightGBM] [Warning] Unknown parameter: 0.2\n",
      "[LightGBM] [Warning] learning_rate is set=0.1, learning_rate= will be ignored. Current value: learning_rate=0.1\n",
      "[LightGBM] [Warning] Unknown parameter: 0.2\n",
      "[LightGBM] [Warning] learning_rate is set=0.1, learning_rate= will be ignored. Current value: learning_rate=0.1\n",
      "[LightGBM] [Warning] Unknown parameter: 0.2\n",
      "[LightGBM] [Warning] learning_rate is set=0.1, learning_rate= will be ignored. Current value: learning_rate=0.1\n",
      "[LightGBM] [Warning] Unknown parameter: 0.2\n",
      "[LightGBM] [Warning] learning_rate is set=0.1, learning_rate= will be ignored. Current value: learning_rate=0.1\n",
      "[LightGBM] [Warning] Unknown parameter: 0.2\n",
      "[LightGBM] [Warning] learning_rate is set=0.1, learning_rate= will be ignored. Current value: learning_rate=0.1\n",
      "[LightGBM] [Warning] Unknown parameter: 0.2\n",
      "[LightGBM] [Warning] learning_rate is set=0.1, learning_rate= will be ignored. Current value: learning_rate=0.1\n",
      "[LightGBM] [Warning] Unknown parameter: 0.2\n",
      "[LightGBM] [Warning] learning_rate is set=0.1, learning_rate= will be ignored. Current value: learning_rate=0.1\n",
      "[LightGBM] [Warning] Unknown parameter: 0.2\n",
      "[LightGBM] [Warning] learning_rate is set=0.1, learning_rate= will be ignored. Current value: learning_rate=0.1\n",
      "[LightGBM] [Warning] Unknown parameter: 0.2\n",
      "[LightGBM] [Warning] learning_rate is set=0.1, learning_rate= will be ignored. Current value: learning_rate=0.1\n",
      "[LightGBM] [Warning] Unknown parameter: 0.2\n",
      "[LightGBM] [Warning] learning_rate is set=0.1, learning_rate= will be ignored. Current value: learning_rate=0.1\n",
      "[LightGBM] [Warning] Unknown parameter: 0.2\n",
      "[LightGBM] [Warning] learning_rate is set=0.1, learning_rate= will be ignored. Current value: learning_rate=0.1\n",
      "[LightGBM] [Warning] Unknown parameter: 0.2\n",
      "[LightGBM] [Warning] learning_rate is set=0.1, learning_rate= will be ignored. Current value: learning_rate=0.1\n",
      "[LightGBM] [Warning] Unknown parameter: 0.2\n",
      "[LightGBM] [Warning] learning_rate is set=0.1, learning_rate= will be ignored. Current value: learning_rate=0.1\n",
      "[LightGBM] [Warning] Unknown parameter: 0.2\n",
      "[LightGBM] [Warning] learning_rate is set=0.1, learning_rate= will be ignored. Current value: learning_rate=0.1\n",
      "[LightGBM] [Warning] Unknown parameter: 0.2\n",
      "[LightGBM] [Warning] learning_rate is set=0.1, learning_rate= will be ignored. Current value: learning_rate=0.1\n",
      "[LightGBM] [Warning] Unknown parameter: 0.1\n",
      "LGBMRegressor\n",
      "Mean Squared Error: 2723607.357762561\n",
      "Regression Score(r2): 0.9464051553527631\n",
      "------------------------------------------------------\n"
     ]
    }
   ],
   "source": [
    "result = tuning(X, Y, model_parameters, randomstate)"
   ]
  },
  {
   "cell_type": "code",
   "execution_count": 345,
   "id": "faa14b9a",
   "metadata": {},
   "outputs": [],
   "source": [
    "res = pd.DataFrame(result)"
   ]
  },
  {
   "cell_type": "code",
   "execution_count": 348,
   "id": "3b25e3cb",
   "metadata": {},
   "outputs": [
    {
     "data": {
      "text/html": [
       "<div>\n",
       "<style scoped>\n",
       "    .dataframe tbody tr th:only-of-type {\n",
       "        vertical-align: middle;\n",
       "    }\n",
       "\n",
       "    .dataframe tbody tr th {\n",
       "        vertical-align: top;\n",
       "    }\n",
       "\n",
       "    .dataframe thead th {\n",
       "        text-align: right;\n",
       "    }\n",
       "</style>\n",
       "<table border=\"1\" class=\"dataframe\">\n",
       "  <thead>\n",
       "    <tr style=\"text-align: right;\">\n",
       "      <th></th>\n",
       "      <th>model</th>\n",
       "      <th>MSE</th>\n",
       "      <th>R2 Score</th>\n",
       "      <th>best_score</th>\n",
       "      <th>best_params</th>\n",
       "    </tr>\n",
       "  </thead>\n",
       "  <tbody>\n",
       "    <tr>\n",
       "      <th>6</th>\n",
       "      <td>LGBMRegressor</td>\n",
       "      <td>2.723607e+06</td>\n",
       "      <td>0.946405</td>\n",
       "      <td>0.775529</td>\n",
       "      <td>{'learning_rate ': 0.1, 'max_depth': -1, 'n_es...</td>\n",
       "    </tr>\n",
       "    <tr>\n",
       "      <th>1</th>\n",
       "      <td>Lasso Regression</td>\n",
       "      <td>2.430205e+06</td>\n",
       "      <td>0.936125</td>\n",
       "      <td>0.773885</td>\n",
       "      <td>{'alpha': 0.8, 'selection': 'random'}</td>\n",
       "    </tr>\n",
       "    <tr>\n",
       "      <th>3</th>\n",
       "      <td>ElasticNet</td>\n",
       "      <td>1.835735e+06</td>\n",
       "      <td>0.932275</td>\n",
       "      <td>0.813152</td>\n",
       "      <td>{'alpha': 0.01, 'selection': 'random'}</td>\n",
       "    </tr>\n",
       "    <tr>\n",
       "      <th>2</th>\n",
       "      <td>Ridge Regression</td>\n",
       "      <td>1.845843e+06</td>\n",
       "      <td>0.931902</td>\n",
       "      <td>0.812822</td>\n",
       "      <td>{'alpha': 0.8, 'solver': 'svd'}</td>\n",
       "    </tr>\n",
       "    <tr>\n",
       "      <th>0</th>\n",
       "      <td>Linear Regression</td>\n",
       "      <td>3.690277e+06</td>\n",
       "      <td>0.903005</td>\n",
       "      <td>0.829555</td>\n",
       "      <td>{'fit_intercept': False, 'normalize': True, 'p...</td>\n",
       "    </tr>\n",
       "    <tr>\n",
       "      <th>4</th>\n",
       "      <td>KNeighborsRegeressor</td>\n",
       "      <td>3.771455e+06</td>\n",
       "      <td>0.892300</td>\n",
       "      <td>0.791412</td>\n",
       "      <td>{'algorithm': 'ball_tree', 'n_neighbors': 3, '...</td>\n",
       "    </tr>\n",
       "    <tr>\n",
       "      <th>5</th>\n",
       "      <td>DecisionTreeRegressor</td>\n",
       "      <td>3.748164e+06</td>\n",
       "      <td>0.869041</td>\n",
       "      <td>0.808842</td>\n",
       "      <td>{'criterion': 'mae', 'splitter': 'best'}</td>\n",
       "    </tr>\n",
       "  </tbody>\n",
       "</table>\n",
       "</div>"
      ],
      "text/plain": [
       "                   model           MSE  R2 Score  best_score  \\\n",
       "6          LGBMRegressor  2.723607e+06  0.946405    0.775529   \n",
       "1       Lasso Regression  2.430205e+06  0.936125    0.773885   \n",
       "3             ElasticNet  1.835735e+06  0.932275    0.813152   \n",
       "2       Ridge Regression  1.845843e+06  0.931902    0.812822   \n",
       "0      Linear Regression  3.690277e+06  0.903005    0.829555   \n",
       "4   KNeighborsRegeressor  3.771455e+06  0.892300    0.791412   \n",
       "5  DecisionTreeRegressor  3.748164e+06  0.869041    0.808842   \n",
       "\n",
       "                                         best_params  \n",
       "6  {'learning_rate ': 0.1, 'max_depth': -1, 'n_es...  \n",
       "1              {'alpha': 0.8, 'selection': 'random'}  \n",
       "3             {'alpha': 0.01, 'selection': 'random'}  \n",
       "2                    {'alpha': 0.8, 'solver': 'svd'}  \n",
       "0  {'fit_intercept': False, 'normalize': True, 'p...  \n",
       "4  {'algorithm': 'ball_tree', 'n_neighbors': 3, '...  \n",
       "5           {'criterion': 'mae', 'splitter': 'best'}  "
      ]
     },
     "execution_count": 348,
     "metadata": {},
     "output_type": "execute_result"
    }
   ],
   "source": [
    "res_sorted=res.sort_values('R2 Score', ascending = False)\n",
    "res_sorted"
   ]
  },
  {
   "cell_type": "code",
   "execution_count": 349,
   "id": "d4696abc",
   "metadata": {},
   "outputs": [],
   "source": [
    "res_sorted.to_csv('result.csv',index=False)"
   ]
  },
  {
   "cell_type": "markdown",
   "id": "c5a2fb34",
   "metadata": {},
   "source": [
    "# Final Model"
   ]
  },
  {
   "cell_type": "code",
   "execution_count": 352,
   "id": "f9a80da7",
   "metadata": {},
   "outputs": [
    {
     "name": "stdout",
     "output_type": "stream",
     "text": [
      "Mean Squared Error: 2723607.357762561\n",
      "Regression Score(r2): 0.9464051553527631\n"
     ]
    }
   ],
   "source": [
    "X_train, X_test, Y_train, Y_test = train_test_split(X, Y, test_size=0.25, random_state=99)\n",
    "model=LGBMRegressor(learning_rate=0.1, max_depth=-1, n_estimators=102)\n",
    "model.fit(X_train, Y_train)\n",
    "Y_test_pred=model.predict(X_test)\n",
    "test_error=mean_squared_error(Y_test, Y_test_pred)\n",
    "r2score=r2_score(Y_test, Y_test_pred) \n",
    "print('Mean Squared Error: {}'.format(test_error))\n",
    "print('Regression Score(r2): {}'.format(r2score))"
   ]
  }
 ],
 "metadata": {
  "kernelspec": {
   "display_name": "Python 3",
   "language": "python",
   "name": "python3"
  },
  "language_info": {
   "codemirror_mode": {
    "name": "ipython",
    "version": 3
   },
   "file_extension": ".py",
   "mimetype": "text/x-python",
   "name": "python",
   "nbconvert_exporter": "python",
   "pygments_lexer": "ipython3",
   "version": "3.8.5"
  }
 },
 "nbformat": 4,
 "nbformat_minor": 5
}
